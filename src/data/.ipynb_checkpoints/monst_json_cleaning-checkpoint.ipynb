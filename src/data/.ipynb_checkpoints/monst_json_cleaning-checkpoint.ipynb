{
 "cells": [
  {
   "cell_type": "markdown",
   "metadata": {},
   "source": [
    "From [here](https://www.reddit.com/r/DnDBehindTheScreen/comments/7uor3t/monster_cards_for_every_monster_in_the_srd/)"
   ]
  },
  {
   "cell_type": "code",
   "execution_count": 1,
   "metadata": {},
   "outputs": [],
   "source": [
    "import requests\n",
    "import json\n",
    "from LMIPy import utils\n",
    "from slugify import slugify\n"
   ]
  },
  {
   "cell_type": "code",
   "execution_count": 2,
   "metadata": {},
   "outputs": [],
   "source": [
    "url = 'https://gist.githubusercontent.com/tkfu/9819e4ac6d529e225e9fc58b358c3479/raw/d4df8804c25a662efc42936db60cfbc0a5b19db8/srd_5e_monsters.json'"
   ]
  },
  {
   "cell_type": "code",
   "execution_count": 3,
   "metadata": {},
   "outputs": [
    {
     "name": "stdout",
     "output_type": "stream",
     "text": [
      "200\n"
     ]
    }
   ],
   "source": [
    "r = requests.get(url)\n",
    "print(r.status_code)\n",
    "\n",
    "data = r.json()"
   ]
  },
  {
   "cell_type": "code",
   "execution_count": 4,
   "metadata": {},
   "outputs": [
    {
     "data": {
      "text/plain": [
       "327"
      ]
     },
     "execution_count": 4,
     "metadata": {},
     "output_type": "execute_result"
    }
   ],
   "source": [
    "len(data)"
   ]
  },
  {
   "cell_type": "code",
   "execution_count": 5,
   "metadata": {},
   "outputs": [
    {
     "data": {
      "text/plain": [
       "['name',\n",
       " 'meta',\n",
       " 'Armor Class',\n",
       " 'Hit Points',\n",
       " 'Speed',\n",
       " 'STR',\n",
       " 'STR_mod',\n",
       " 'DEX',\n",
       " 'DEX_mod',\n",
       " 'CON',\n",
       " 'CON_mod',\n",
       " 'INT',\n",
       " 'INT_mod',\n",
       " 'WIS',\n",
       " 'WIS_mod',\n",
       " 'CHA',\n",
       " 'CHA_mod',\n",
       " 'Saving Throws',\n",
       " 'Skills',\n",
       " 'Senses',\n",
       " 'Languages',\n",
       " 'Challenge',\n",
       " 'Traits',\n",
       " 'Actions',\n",
       " 'Legendary Actions',\n",
       " 'img_url']"
      ]
     },
     "execution_count": 5,
     "metadata": {},
     "output_type": "execute_result"
    }
   ],
   "source": [
    "list(data[0].keys())"
   ]
  },
  {
   "cell_type": "code",
   "execution_count": 6,
   "metadata": {},
   "outputs": [
    {
     "data": {
      "text/plain": [
       "{'Actions': '<p><em><strong>Bite.</strong></em> <em>Melee Weapon Attack:</em> +6 to hit, reach 5 ft., one target. <em>Hit:</em> 15 (2d10 + 4) piercing damage.</p><p><em><strong>Claw. </strong></em><em>Melee Weapon Attack:</em> +6 to hit, reach 5 ft., one target. <em>Hit:</em> 8 (1d8 + 4) slashing damage.</p>',\n",
       " 'Armor Class': '13 Natural Armor',\n",
       " 'CHA': '5',\n",
       " 'CHA_mod': '(-3)',\n",
       " 'CON': '17',\n",
       " 'CON_mod': '(+3)',\n",
       " 'Challenge': '2 (450 XP)',\n",
       " 'DEX': '13',\n",
       " 'DEX_mod': '(+1)',\n",
       " 'Hit Points': '51 (6d10 + 18)',\n",
       " 'INT': '2',\n",
       " 'INT_mod': '(-4)',\n",
       " 'Languages': '--',\n",
       " 'STR': '19',\n",
       " 'STR_mod': '(+4)',\n",
       " 'Senses': 'Passive Perception 15',\n",
       " 'Skills': 'Perception +5',\n",
       " 'Speed': '60 ft. ',\n",
       " 'Traits': '<p> <em><strong>Pounce.</strong></em> If the allosaurus moves at least 30 feet straight toward a creature and then hits it with a claw attack on the same turn, that target must succeed on a DC 13 Strength saving throw or be knocked prone. If the target is prone, the allosaurus can make one bite attack against it as a bonus action.</p>',\n",
       " 'WIS': '12',\n",
       " 'WIS_mod': '(+1)',\n",
       " 'img_url': 'https://media-waterdeep.cursecdn.com/attachments/2/648/beast.jpg',\n",
       " 'meta': 'Large beast, unaligned',\n",
       " 'name': 'Allosaurus'}"
      ]
     },
     "execution_count": 6,
     "metadata": {},
     "output_type": "execute_result"
    }
   ],
   "source": [
    "data[13]"
   ]
  },
  {
   "cell_type": "code",
   "execution_count": 7,
   "metadata": {},
   "outputs": [],
   "source": [
    "parsed = []\n",
    "fails = []\n",
    "\n",
    "for i,monster in enumerate(data):\n",
    "    tmp = {}\n",
    "    \n",
    "    try:\n",
    "        # generate slug\n",
    "        slug = slugify(monster['name']).replace('-', '_')\n",
    "        tmp['slug'] = slug\n",
    "        \n",
    "    except:\n",
    "        print('Failed slug', i)\n",
    "        \n",
    "    try:\n",
    "        # generate name\n",
    "        name = monster['name']\n",
    "        tmp['name'] = name\n",
    "        \n",
    "    except:\n",
    "        print('Failed slug', i)\n",
    "\n",
    "    try:\n",
    "        # race/type & alignment\n",
    "        meta = monster['meta']\n",
    "        m_type, alignment = [el.strip().lower() for el in meta.split(', ')]\n",
    "        tmp['type'] = m_type\n",
    "        tmp['alignment'] = alignment\n",
    "\n",
    "    except:\n",
    "        print('Failed type/alignment', i)\n",
    "\n",
    "    try:\n",
    "        # Armor Class\n",
    "        ac = monster['Armor Class'].lower().strip()\n",
    "#         ac_type = utils.find_between(ac, '(', ')')\n",
    "#         if 'form' in ac:\n",
    "#             # unfinished\n",
    "#             -ac = ac.split(', ')\n",
    "#         else\n",
    "#             if ac_type:\n",
    "#                 _ac = int(ac.split(f' ({ac_type}')[0])\n",
    "#             elif 'natural' in ac:\n",
    "#                 _ac = ac.split(' natural')[0]\n",
    "#                 ac_type = 'natural armor'\n",
    "#             else:\n",
    "#                 _ac = ac\n",
    "#                 ac_type = None  \n",
    "#             tmp['ac'] = [{\n",
    "#                 'value': int(_ac),\n",
    "#                 'type': ac_type\n",
    "#             }]\n",
    "        tmp['ac'] = ac\n",
    "    except:\n",
    "        print('Failed ac', i)\n",
    "        fails.append([ac.split(' natural'),ac_type])\n",
    "        \n",
    "\n",
    "    try:\n",
    "        # Hit points\n",
    "        hp = monster['Hit Points'].lower().strip()\n",
    "        hp_default = int(hp.split(f' (')[0])\n",
    "        hp_rng = utils.find_between(hp, '(', ')')\n",
    "        if hp_rng and '+' in hp_rng:\n",
    "            dice, mod = hp_rng.split(' + ')\n",
    "        elif hp_rng and '-' in hp_rng:\n",
    "            dice, mod = hp_rng.split(' - ')\n",
    "            mod = -int(mod)\n",
    "        else:\n",
    "            dice = hp_rng\n",
    "            mod = 0\n",
    "        n, d = dice.split('d')\n",
    "        hp_rng_list = [int(n), int(d), int(mod)]\n",
    "\n",
    "        tmp['hp'] = {\n",
    "            'default': hp_default,\n",
    "            'rng': hp_rng_list\n",
    "        }\n",
    "    except:\n",
    "        print('Failed hp', i)\n",
    "\n",
    "    try:\n",
    "        # race/type & alignment\n",
    "        spd = monster['Speed'].lower().strip()[:-1].split('., ')\n",
    "        spd_keys = ['fly', 'climb', 'burrow', 'swim']\n",
    "        tmp['speed'] = {k: int(utils.find_between(k, 'f{k} ', ' ft')) for k in spd_keys if utils.find_between(k, 'f{k} ', ' ft')}\n",
    "        tmp['speed']['base'] = int(spd[0].split(' ft')[0])\n",
    "        tmp['speed']['unit'] = 'ft.'\n",
    "    except:\n",
    "        print('Failed race/alignment', i)\n",
    "    \n",
    "    try:\n",
    "        #stats\n",
    "        stat_keys = ['STR','DEX','CON','INT','WIS','CHA']\n",
    "        stats_obj = {}\n",
    "        for stat in stat_keys:\n",
    "            key = stat\n",
    "            m_stat = monster[stat]\n",
    "            m_stat_mod = monster[f'{stat}_mod'][1:-1]\n",
    "            stats_obj[f'{key}'] = [int(m_stat), int(m_stat_mod)]\n",
    "        tmp['stats'] = stats_obj\n",
    "    except:\n",
    "        print('Failed stats', i)\n",
    "    \n",
    "    try:\n",
    "        #Saving Throws\n",
    "        throws = monster.get('Saving Throws', '').strip().split(', ')\n",
    "        tmp['saving_throws'] = throws\n",
    "    except:\n",
    "        print('Failed throws', i)\n",
    "    \n",
    "    try:\n",
    "        #Skills\n",
    "        skills = monster.get('Skills', '').lower().strip().split(', ')\n",
    "        tmp['skills'] = skills\n",
    "    except:\n",
    "        print('Failed skills', i)\n",
    "    \n",
    "    try:\n",
    "        #Senses\n",
    "        senses = monster.get('Senses', '').lower().strip().split(', ')\n",
    "        tmp['senses'] = senses\n",
    "    except:\n",
    "        print('Failed senses', i)\n",
    "    \n",
    "    try:\n",
    "        #Languages\n",
    "        lang = monster.get('Languages', '').lower().strip().split(', ')\n",
    "        tmp['languages'] = [l.replace('--', '') for l in lang]\n",
    "    except:\n",
    "        print('Failed lang', i)\n",
    "    \n",
    "    try:\n",
    "        #challenge\n",
    "        challenge = monster['Challenge']\n",
    "        exp = int(utils.find_between(challenge, '(', ')').replace(' XP', '').replace(',', ''))\n",
    "        lvl = challenge.split(' (')[0]\n",
    "        if '/' in lvl:\n",
    "            num, dem = lvl.split('/')\n",
    "            lvl = int(num)/int(dem)\n",
    "        tmp['challenge_lvl'] = lvl\n",
    "        tmp['xp'] = exp\n",
    "    except:\n",
    "        print('Failed challenge/xp', i)\n",
    "    \n",
    "    try:\n",
    "        #Traits\n",
    "        traits = '<h3> Traits </h3>' + monster.get('Traits', '')\n",
    "        tmp['traits_html'] = traits\n",
    "    except:\n",
    "        print('Failed traits', i)\n",
    "    \n",
    "    try:\n",
    "        #Actions\n",
    "        actions = '<h3> ACTIONS </h3>' +  monster.get('Actions', '')\n",
    "        l_actions = monster.get('Legendary Actions', '')\n",
    "        if l_actions:\n",
    "            actions = actions + '<h3> LEGENDARY ACTIONS </h3>' + l_actions\n",
    "        tmp['actions_html'] = actions\n",
    "    except:\n",
    "        print('Failed actions', i)\n",
    "    \n",
    "    try:\n",
    "        #Image\n",
    "        url = monster.get('img_url', None)\n",
    "        tmp['img_url'] = url\n",
    "    except:\n",
    "        print('Failed url', i)\n",
    "    \n",
    "\n",
    "    parsed.append(tmp)\n",
    "    "
   ]
  },
  {
   "cell_type": "code",
   "execution_count": 8,
   "metadata": {},
   "outputs": [
    {
     "data": {
      "text/plain": [
       "[]"
      ]
     },
     "execution_count": 8,
     "metadata": {},
     "output_type": "execute_result"
    }
   ],
   "source": [
    "fails"
   ]
  },
  {
   "cell_type": "code",
   "execution_count": 9,
   "metadata": {},
   "outputs": [
    {
     "data": {
      "text/plain": [
       "{'ac': '17 (natural armor)',\n",
       " 'actions_html': \"<h3> ACTIONS </h3><p><em><strong>Multiattack.</strong></em> The aboleth makes three tentacle attacks. </p><p><em><strong>Tentacle.</strong></em> <em>Melee Weapon Attack:</em> +9 to hit, reach 10 ft., one target. <em>Hit:</em> 12 (2d6 + 5) bludgeoning damage. If the target is a creature, it must succeed on a DC 14 Constitution saving throw or become diseased. The disease has no effect for 1 minute and can be removed by any magic that cures disease. After 1 minute, the diseased creature's skin becomes translucent and slimy, the creature can't regain hit points unless it is underwater, and the disease can be removed only by heal or another disease-curing spell of 6th level or higher. When the creature is outside a body of water, it takes 6 (1d12) acid damage every 10 minutes unless moisture is applied to the skin before 10 minutes have passed. </p><p><em><strong>Tail.</strong></em> <em>Melee Weapon Attack:</em> +9 to hit, reach 10 ft. one target. <em>Hit:</em> 15 (3d6 + 5) bludgeoning damage. </p><p><em><strong>Enslave (3/Day).</strong></em> The aboleth targets one creature it can see within 30 feet of it. The target must succeed on a DC 14 Wisdom saving throw or be magically charmed by the aboleth until the aboleth dies or until it is on a different plane of existence from the target. The charmed target is under the aboleth's control and can't take reactions, and the aboleth and the target can communicate telepathically with each other over any distance. </p><p>Whenever the charmed target takes damage, the target can repeat the saving throw. On a success, the effect ends. No more than once every 24 hours, the target can also repeat the saving throw when it is at least 1 mile away from the aboleth.</p><h3> LEGENDARY ACTIONS </h3><p>The aboleth can take 3 legendary actions, choosing from the options below. Only one legendary action option can be used at a time and only at the end of another creature's turn. The aboleth regains spent legendary actions at the start of its turn. </p><p><em><strong>Detect.</strong></em> The aboleth makes a Wisdom (Perception) check. </p><p><em><strong>Tail Swipe.</strong></em> The aboleth makes one tail attack. </p><p><em><strong>Psychic Drain</strong></em> (Costs 2 Actions). One creature charmed by the aboleth takes 10 (3d6) psychic damage, and the aboleth regains hit points equal to the damage the creature takes.</p>\",\n",
       " 'alignment': 'lawful evil',\n",
       " 'challenge_lvl': '10',\n",
       " 'hp': {'default': 135, 'rng': [18, 10, 36]},\n",
       " 'img_url': 'https://media-waterdeep.cursecdn.com/avatars/thumbnails/0/11/1000/1000/636238825975375671.jpeg',\n",
       " 'languages': ['deep speech', 'telepathy 120 ft.'],\n",
       " 'name': 'Aboleth',\n",
       " 'saving_throws': ['CON +6', 'INT +8', 'WIS +6'],\n",
       " 'senses': ['darkvision 120 ft.', ' passive perception 20'],\n",
       " 'skills': ['history +12', 'perception +10'],\n",
       " 'slug': 'aboleth',\n",
       " 'speed': {'base': 10, 'unit': 'ft.'},\n",
       " 'stats': {'CHA': [18, 4],\n",
       "  'CON': [15, 2],\n",
       "  'DEX': [9, -1],\n",
       "  'INT': [18, 4],\n",
       "  'STR': [21, 5],\n",
       "  'WIS': [15, 2]},\n",
       " 'traits_html': \"<h3> Traits </h3><p><em><strong>Amphibious.</strong></em> The aboleth can breathe air and water. </p><p><em><strong>Mucous Cloud.</strong></em> While underwater, the aboleth is surrounded by transformative mucus. A creature that touches the aboleth or that hits it with a melee attack while within 5 feet of it must make a DC 14 Constitution saving throw. On a failure, the creature is diseased for 1d4 hours. The diseased creature can breathe only underwater. </p><p><em><strong>Probing Telepathy.</strong></em> If a creature communicates telepathically with the aboleth, the aboleth learns the creature's greatest desires if the aboleth can see the creature.</p>\",\n",
       " 'type': 'large aberration',\n",
       " 'xp': 5900}"
      ]
     },
     "execution_count": 9,
     "metadata": {},
     "output_type": "execute_result"
    }
   ],
   "source": [
    "parsed[0]"
   ]
  },
  {
   "cell_type": "code",
   "execution_count": 10,
   "metadata": {},
   "outputs": [],
   "source": [
    "indexed = []\n",
    "for i,p in enumerate(parsed):\n",
    "    p['id'] = i "
   ]
  },
  {
   "cell_type": "code",
   "execution_count": 11,
   "metadata": {},
   "outputs": [],
   "source": [
    "with open('./output/dnd_monsters_5e.json', 'w') as f:\n",
    "    json.dump(parsed, f)"
   ]
  },
  {
   "cell_type": "markdown",
   "metadata": {},
   "source": [
    "### Generate metadata"
   ]
  },
  {
   "cell_type": "code",
   "execution_count": 12,
   "metadata": {},
   "outputs": [
    {
     "data": {
      "text/plain": [
       "{'ac': '',\n",
       " 'actions_html': '',\n",
       " 'alignment': '',\n",
       " 'challenge_lvl': '',\n",
       " 'hp': '',\n",
       " 'id': '',\n",
       " 'img_url': '',\n",
       " 'languages': '',\n",
       " 'name': '',\n",
       " 'saving_throws': '',\n",
       " 'senses': '',\n",
       " 'skills': '',\n",
       " 'slug': '',\n",
       " 'speed': '',\n",
       " 'stats': '',\n",
       " 'traits_html': '',\n",
       " 'type': '',\n",
       " 'xp': ''}"
      ]
     },
     "execution_count": 12,
     "metadata": {},
     "output_type": "execute_result"
    }
   ],
   "source": [
    "meta = {k:'' for k,v in parsed[0].items()}\n",
    "meta"
   ]
  },
  {
   "cell_type": "code",
   "execution_count": 14,
   "metadata": {},
   "outputs": [],
   "source": [
    "meta['id'] = 'Unique id'\n",
    "meta['name'] = 'Monster name'\n",
    "meta['ac'] = 'Action class (string)'\n",
    "meta['actions_html'] = 'Actions or attacks (HTML string)'\n",
    "meta['alignment'] = 'Alignment of opponent (string)'\n",
    "meta['challenge_lvl'] = 'Challenge level of opponent (int)'\n",
    "meta['hp'] = {\n",
    "    'default': 'Default max hit points of opponent (int)',\n",
    "    'rng': 'Random number dice rolls for generating max hit points: [rolls, dice, plus](array of ints)'\n",
    "}\n",
    "meta['img_url'] = 'Image url'\n",
    "meta['languages'] = 'Languages opponent can speak [array of strings]'\n",
    "meta['saving_throws'] = 'Saving throws (array of strings)'\n",
    "meta['senses'] = 'Sense modifiers of opponent'\n",
    "meta['skills'] = 'Opponent skill proficiencies (array of string)'\n",
    "meta['slug'] = 'Unique slug'\n",
    "meta['speed'] = 'Enemy speed in feet per action'\n",
    "meta['stats'] = 'Character stats and modifiers for opponent where values are arrays with: [`base`, `modifier`] (object)'\n",
    "meta['traits_html'] = 'Traits of opponent'\n",
    "meta['type'] = 'Opponent type (string)'\n",
    "meta['xp'] = 'Experience points gained when defeating opponent (int)'"
   ]
  },
  {
   "cell_type": "code",
   "execution_count": 15,
   "metadata": {},
   "outputs": [],
   "source": [
    "with open('./output/dnd_monsters_5e_metadata.json', 'w') as f:\n",
    "    json.dump(meta, f)"
   ]
  },
  {
   "cell_type": "code",
   "execution_count": null,
   "metadata": {},
   "outputs": [],
   "source": []
  }
 ],
 "metadata": {
  "kernelspec": {
   "display_name": "Python 3",
   "language": "python",
   "name": "python3"
  },
  "language_info": {
   "codemirror_mode": {
    "name": "ipython",
    "version": 3
   },
   "file_extension": ".py",
   "mimetype": "text/x-python",
   "name": "python",
   "nbconvert_exporter": "python",
   "pygments_lexer": "ipython3",
   "version": "3.6.2"
  }
 },
 "nbformat": 4,
 "nbformat_minor": 2
}
